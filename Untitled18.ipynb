{
  "nbformat": 4,
  "nbformat_minor": 0,
  "metadata": {
    "colab": {
      "provenance": [],
      "authorship_tag": "ABX9TyNkgbYa+/at+Ks+VjpA5aHy",
      "include_colab_link": true
    },
    "kernelspec": {
      "name": "python3",
      "display_name": "Python 3"
    },
    "language_info": {
      "name": "python"
    }
  },
  "cells": [
    {
      "cell_type": "markdown",
      "metadata": {
        "id": "view-in-github",
        "colab_type": "text"
      },
      "source": [
        "<a href=\"https://colab.research.google.com/github/Laisfragoso/-teste/blob/main/Untitled18.ipynb\" target=\"_parent\"><img src=\"https://colab.research.google.com/assets/colab-badge.svg\" alt=\"Open In Colab\"/></a>"
      ]
    },
    {
      "cell_type": "code",
      "execution_count": 1,
      "metadata": {
        "colab": {
          "base_uri": "https://localhost:8080/",
          "height": 130
        },
        "id": "hZp-RVRFjHFm",
        "outputId": "029fa579-149f-4149-c1f6-f27f6aabf68a"
      },
      "outputs": [
        {
          "output_type": "error",
          "ename": "SyntaxError",
          "evalue": "ignored",
          "traceback": [
            "\u001b[0;36m  File \u001b[0;32m\"<ipython-input-1-a70847819024>\"\u001b[0;36m, line \u001b[0;32m1\u001b[0m\n\u001b[0;31m    const URL = 'https://api.pushshift.io/reddit/search/'\u001b[0m\n\u001b[0m          ^\u001b[0m\n\u001b[0;31mSyntaxError\u001b[0m\u001b[0;31m:\u001b[0m invalid syntax\n"
          ]
        }
      ],
      "source": [
        "const URL = 'https://api.pushshift.io/reddit/search/'\n",
        "\n",
        "const params = {\n",
        "    q: 'javascript',\n",
        "    size: 10,\n",
        "    subreddit: 'askreddit'\n",
        "\n",
        "}\n",
        "let ALL_UTC = []\n",
        "// Submit First Request....\n",
        "axios.get(URL + 'comment', {\n",
        "        params\n",
        "    })\n",
        "    .then((response) => {\n",
        "        // Handle First Response\n",
        "\n",
        "        let length = response.data.data.length - 1;\n",
        "        let utc = response.data.data[length].created_utc;\n",
        "        ALL_UTC.push(utc)\n",
        "        params.before = utc\n",
        "\n",
        "        // Make A Second Get Request\n",
        "        axios.get(URL + 'comment', {\n",
        "                params\n",
        "            })\n",
        "            .then((response) => {\n",
        "\n",
        "                let length = response.data.data.length - 1;\n",
        "                let utc = response.data.data[length].created_utc;\n",
        "                ALL_UTC.push(utc)\n",
        "                params.before = utc\n",
        "\n",
        "                // Make A Third Get Request\n",
        "                axios.get(URL + 'comment', {\n",
        "                        params\n",
        "                    })\n",
        "                    .then((response) => {\n",
        "\n",
        "                        let length = response.data.data.length - 1;\n",
        "                        let utc = response.data.data[length].created_utc;\n",
        "                        ALL_UTC.push(utc)\n",
        "                        params.before = utc\n",
        "\n",
        "\n",
        "\n",
        "                        //Make A Fourth Get Request\n",
        "                        axios.get(URL + 'comment', {\n",
        "                                params\n",
        "                            })\n",
        "                            .then((response) => {\n",
        "\n",
        "                                let length = response.data.data.length - 1;\n",
        "                                let utc = response.data.data[length].created_utc;\n",
        "                                ALL_UTC.push(utc)\n",
        "                                params.before = utc\n",
        "\n",
        "                                console.log(`finished all requests... \\n${ALL_UTC}`)\n",
        "\n",
        "\n",
        "                            })\n",
        "\n",
        "\n",
        "                    })\n",
        "\n",
        "\n",
        "\n",
        "\n",
        "            })"
      ]
    },
    {
      "cell_type": "code",
      "source": [],
      "metadata": {
        "id": "p4jYmVSpjQ6H"
      },
      "execution_count": null,
      "outputs": []
    }
  ]
}